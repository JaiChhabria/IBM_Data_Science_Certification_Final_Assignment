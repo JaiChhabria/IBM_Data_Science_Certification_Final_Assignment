{
 "cells": [
  {
   "cell_type": "markdown",
   "id": "218fd6bf",
   "metadata": {},
   "source": [
    "# Capstone Project - Final Report"
   ]
  },
  {
   "cell_type": "markdown",
   "id": "dbefefad",
   "metadata": {},
   "source": [
    "We want to open a new coffee shop in Melbourne, we will explore different districts in Melbourne"
   ]
  },
  {
   "cell_type": "markdown",
   "id": "28d4465a",
   "metadata": {},
   "source": [
    "## Introduction:"
   ]
  },
  {
   "cell_type": "markdown",
   "id": "488a98b1",
   "metadata": {},
   "source": [
    "We want to open a new coffee shop in Melbourne. We want to identify current locations where we have coffee shops. We will use `Four Square` data to determine which district in Melbourne currently have coffee shops. This will tell us which districts have more coffee shops and which have less"
   ]
  },
  {
   "cell_type": "markdown",
   "id": "b7fe2421",
   "metadata": {},
   "source": [
    "## Business Problem:"
   ]
  },
  {
   "cell_type": "markdown",
   "id": "81724cd9",
   "metadata": {},
   "source": [
    "`Melbourne` is the capital and most-populous city of the Australian state of Victoria, and the second-most populous city in Australia and Oceania.\n",
    "\n",
    "Melbourne is known for its bars, street art and coffee culture. As a coffee lover city, it makes complete sense to open coffee shop. The challenge is to understand which district is the best option to open the new coffee shop."
   ]
  },
  {
   "cell_type": "markdown",
   "id": "c5937a25",
   "metadata": {},
   "source": [
    "# Target Audience:"
   ]
  },
  {
   "cell_type": "markdown",
   "id": "e89bc38d",
   "metadata": {},
   "source": [
    "We will use following techniques to gather information:\n",
    "\n",
    "- We will extract the list of districts in Melbourne using `request` and `beautiful soup`\n",
    "- We will use `Geographical Co-ordinates` to get Lat and Long of these districts\n",
    "- We will use `Four Sqaure Api` to get the list of coffee shops in theese districts\n",
    "- We will cluster these locations based on the coffee shops"
   ]
  },
  {
   "cell_type": "code",
   "execution_count": null,
   "id": "25d9efce",
   "metadata": {},
   "outputs": [],
   "source": []
  }
 ],
 "metadata": {
  "kernelspec": {
   "display_name": "Python 3",
   "language": "python",
   "name": "python3"
  },
  "language_info": {
   "codemirror_mode": {
    "name": "ipython",
    "version": 3
   },
   "file_extension": ".py",
   "mimetype": "text/x-python",
   "name": "python",
   "nbconvert_exporter": "python",
   "pygments_lexer": "ipython3",
   "version": "3.8.10"
  }
 },
 "nbformat": 4,
 "nbformat_minor": 5
}
