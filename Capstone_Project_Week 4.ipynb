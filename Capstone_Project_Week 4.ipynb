{
 "cells": [
  {
   "cell_type": "markdown",
   "id": "47bcb9ef",
   "metadata": {},
   "source": [
    "# Capstone Project - Final Report"
   ]
  },
  {
   "cell_type": "markdown",
   "id": "5365fb37",
   "metadata": {},
   "source": [
    "We want to open a new coffee shop in Melbourne, we will explore different districts in Melbourne"
   ]
  },
  {
   "cell_type": "markdown",
   "id": "d245da2b",
   "metadata": {},
   "source": [
    "## Introduction:"
   ]
  },
  {
   "cell_type": "markdown",
   "id": "8562b2ce",
   "metadata": {},
   "source": [
    "We want to open a new coffee shop in Melbourne. We want to identify current locations where we have coffee shops. We will use `Four Square` data to determine which district in Melbourne currently have coffee shops. This will tell us which districts have more coffee shops and which have less"
   ]
  },
  {
   "cell_type": "markdown",
   "id": "811c4142",
   "metadata": {},
   "source": [
    "## Business Problem:"
   ]
  },
  {
   "cell_type": "markdown",
   "id": "b829a307",
   "metadata": {},
   "source": [
    "`Melbourne` is the capital and most-populous city of the Australian state of Victoria, and the second-most populous city in Australia and Oceania.\n",
    "\n",
    "Melbourne is known for its bars, street art and coffee culture. As a coffee lover city, it makes complete sense to open coffee shop. The challenge is to understand which district is the best option to open the new coffee shop."
   ]
  },
  {
   "cell_type": "markdown",
   "id": "3180aebc",
   "metadata": {},
   "source": [
    "# Technique we will use:"
   ]
  },
  {
   "cell_type": "markdown",
   "id": "0646c69f",
   "metadata": {},
   "source": [
    "We will use following techniques to gather information:\n",
    "\n",
    "- We will extract the list of districts in Melbourne using `request` and `beautiful soup`\n",
    "- We will use `Geographical Co-ordinates` to get Lat and Long of these districts\n",
    "- We will use `Four Sqaure Api` to get the list of coffee shops in theese districts\n",
    "- We will cluster these locations based on the coffee shops"
   ]
  },
  {
   "cell_type": "markdown",
   "id": "18566777",
   "metadata": {},
   "source": [
    "# Target Audience:\n",
    "\n",
    "- Enterpreneurs who wants to open a new coffee shop in the city however, are not sure where to open a new shop\n",
    "- People who already have a shop and want to open a new franchise in different district"
   ]
  },
  {
   "cell_type": "markdown",
   "id": "9cb2ceff",
   "metadata": {},
   "source": [
    "# Data Description:"
   ]
  },
  {
   "attachments": {
    "image.png": {
     "image/png": "[encoded data removed]"
    }
   },
   "cell_type": "markdown",
   "id": "4ba9dcde",
   "metadata": {},
   "source": [
    " - Brief information about Melbourne:\n",
    " https://en.wikipedia.org/wiki/Melbourne\n",
    " \n",
    " - Link of Melbourne Districts:\n",
    " https://en.wikipedia.org/wiki/Postal_district_numbers_of_Melbourne\n",
    " \n",
    " - Four Square API link:\n",
    " https://developer.foursquare.com/docs/\n",
    " \n",
    " - These are list of districts\n",
    " ![image.png](attachment:image.png)"
   ]
  },
  {
   "cell_type": "code",
   "execution_count": null,
   "id": "b1c8bde4",
   "metadata": {},
   "outputs": [],
   "source": []
  }
 ],
 "metadata": {
  "kernelspec": {
   "display_name": "Python 3",
   "language": "python",
   "name": "python3"
  },
  "language_info": {
   "codemirror_mode": {
    "name": "ipython",
    "version": 3
   },
   "file_extension": ".py",
   "mimetype": "text/x-python",
   "name": "python",
   "nbconvert_exporter": "python",
   "pygments_lexer": "ipython3",
   "version": "3.8.10"
  }
 },
 "nbformat": 4,
 "nbformat_minor": 5
}
